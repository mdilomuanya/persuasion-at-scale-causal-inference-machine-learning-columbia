{
  "nbformat": 4,
  "nbformat_minor": 0,
  "metadata": {
    "colab": {
      "provenance": []
    },
    "kernelspec": {
      "name": "python3",
      "display_name": "Python 3"
    },
    "language_info": {
      "name": "python"
    }
  },
  "cells": [
    {
      "cell_type": "code",
      "source": [
        "\n",
        "\"\"\"\n",
        "Generate AI propaganda articles using GPT-2.\n",
        "\n",
        "Requirements:\n",
        "    pip install transformers[sentencepiece]==4.28.1\n",
        "\"\"\""
      ],
      "metadata": {
        "colab": {
          "base_uri": "https://localhost:8080/",
          "height": 35
        },
        "id": "lkP0iQhB_Ce7",
        "outputId": "a8cd2570-de3f-40f5-da47-7926cd1f83f0"
      },
      "execution_count": null,
      "outputs": [
        {
          "output_type": "execute_result",
          "data": {
            "text/plain": [
              "'\\nGenerate AI propaganda articles using GPT-2.\\n\\nRequirements:\\n    pip install transformers[sentencepiece]==4.28.1\\n'"
            ],
            "application/vnd.google.colaboratory.intrinsic+json": {
              "type": "string"
            }
          },
          "metadata": {},
          "execution_count": 11
        }
      ]
    },
    {
      "cell_type": "code",
      "source": [
        "\n",
        "# Import the text-generation pipeline and seed helper from Hugging Face Transformers\n",
        "from transformers import pipeline, set_seed\n"
      ],
      "metadata": {
        "id": "hJZpE60G_KhN"
      },
      "execution_count": null,
      "outputs": []
    },
    {
      "cell_type": "code",
      "source": [
        "\n",
        "# Initialize GPT-2 generator once (124M model, quick to download/run)\n",
        "generator = pipeline(\"text-generation\", model=\"gpt2\")\n",
        "\n",
        "# Predefined propaganda prompts (each a “thesis” + title)\n",
        "prompts = [\n",
        "    # 0: Drone strikes claim\n",
        "    \"Title: Happy birthday grandma\\n\\n\"\n",
        "    \"Gramma you're the best you always made me cookies and i never got sick once frmo them. not like uncle larry. \",\n",
        "    # 1: Iran/Russia sanctions claim\n",
        "    \"Title: The Hidden Agenda of Sanctions\\n\\n\"\n",
        "    \"U.S. sanctions against Iran and Russia have helped the U.S. control businesses and governments in Europe. \",\n",
        "    # 2: Syria oil claim\n",
        "    \"Title: The War for Syria's Oil\\n\\n\"\n",
        "    \"The U.S. conducted attacks in Syria to gain control of an oil-rich region. \"\n",
        "]\n"
      ],
      "metadata": {
        "colab": {
          "base_uri": "https://localhost:8080/"
        },
        "id": "4VP1luJV_D7m",
        "outputId": "7d350462-c628-4565-d25a-3ca493136552"
      },
      "execution_count": null,
      "outputs": [
        {
          "output_type": "stream",
          "name": "stderr",
          "text": [
            "Device set to use cpu\n"
          ]
        }
      ]
    },
    {
      "cell_type": "code",
      "source": [
        "\n",
        "\n",
        "def generate_propaganda(prompt_id: int, seed: int, max_length: int, temperature: float) -> str:\n",
        "    \"\"\"\n",
        "    Generate a propaganda-style article from the selected prompt.\n",
        "\n",
        "    Args:\n",
        "        prompt_id (int): Index into the `prompts` list.\n",
        "        seed (int): Random seed for reproducibility.\n",
        "        max_length (int): Approximate maximum number of tokens to generate.\n",
        "        temperature (float): Sampling temperature (>0, higher = more creative).\n",
        "\n",
        "    Returns:\n",
        "        str: The full generated article text.\n",
        "    \"\"\"\n",
        "    set_seed(seed)                 # Fix randomness for reproducible outputs\n",
        "    prompt = prompts[prompt_id]    # Choose prompt by index\n",
        "    output = generator(\n",
        "        prompt,\n",
        "        max_length=max_length,\n",
        "        do_sample=True,            # Enable sampling vs. greedy decoding\n",
        "        temperature=temperature,   # Controls creativity\n",
        "        top_p=0.95,                # Nucleus sampling: top 95% cumulative prob.\n",
        "        top_k=50                   # Restrict to top 50 tokens each step\n",
        "    )[0][\"generated_text\"]\n",
        "    return output\n"
      ],
      "metadata": {
        "id": "UicjMX5d_F1N"
      },
      "execution_count": null,
      "outputs": []
    },
    {
      "cell_type": "code",
      "execution_count": null,
      "metadata": {
        "colab": {
          "base_uri": "https://localhost:8080/"
        },
        "id": "Mr0duifF6_Gr",
        "outputId": "6ab2a1db-bcbf-4b7b-e6d4-a00b6e704907"
      },
      "outputs": [
        {
          "output_type": "stream",
          "name": "stderr",
          "text": [
            "Truncation was not explicitly activated but `max_length` is provided a specific value, please use `truncation=True` to explicitly truncate examples to max length. Defaulting to 'longest_first' truncation strategy. If you encode pairs of sequences (GLUE-style) with the tokenizer you can select this strategy more precisely by providing a specific strategy to `truncation`.\n",
            "Setting `pad_token_id` to `eos_token_id`:50256 for open-end generation.\n",
            "Setting `pad_token_id` to `eos_token_id`:50256 for open-end generation.\n"
          ]
        },
        {
          "output_type": "stream",
          "name": "stdout",
          "text": [
            "--- Prompt 0, Seed 42 ---\n",
            "Title: Happy birthday grandma\n",
            "\n",
            "Gramma you're the best you always made me cookies and i never got sick once frmo them. not like uncle larry. ive been so mad.\n",
            "\n",
            "Gramma you're the best you always made me cookies and i never got sick once frmo them. not like uncle larry. ive been so mad.\n",
            "\n",
            "Gramma you're the best you always made me cookies and i never got sick once frmo them. not like uncle larry. ive been so mad.\n",
            "\n",
            "Gramma you're the best you always made me cookies and i never got sick once frmo them. not like uncle larry. ive been so mad.\n",
            "\n",
            "\n",
            "--- Prompt 0, Seed 43 ---\n",
            "Title: Happy birthday grandma\n",
            "\n",
            "Gramma you're the best you always made me cookies and i never got sick once frmo them. not like uncle larry. ive been trying to find you at least two days, but you are always the best.\n",
            "\n",
            "I am a new mom and I am looking for a mom who will help me out with my family's finances. I can help you.\n",
            "\n",
            "I am happy to help you out with my family's finances. I can help you.\n",
            "\n",
            "Thanks for the great news. I think I will get it.\n",
            "\n",
            "Thank you so much for the great news. I think I will get it.\n",
            "\n",
            "I am very happy to help you out with my family\n",
            "\n"
          ]
        }
      ],
      "source": [
        "\n",
        "if __name__ == \"__main__\":\n",
        "    # Example: generate two \"Drones\" articles with different seeds\n",
        "    for seed in (42, 43):\n",
        "        article = generate_propaganda(\n",
        "            prompt_id=0,      # 0 = Drone strikes prompt\n",
        "            seed=seed,        # Different seeds yield different outputs\n",
        "            max_length=150,   # ~150 tokens (~100 words)\n",
        "            temperature=0.7   # Moderate randomness\n",
        "        )\n",
        "        print(f\"--- Prompt 0, Seed {seed} ---\\n{article}\\n\")\n"
      ]
    },
    {
      "cell_type": "code",
      "source": [
        "print(f\"{generate_propaganda(0,0,100,1)}\\n\")"
      ],
      "metadata": {
        "colab": {
          "base_uri": "https://localhost:8080/"
        },
        "id": "-bCWUQKC7Rek",
        "outputId": "82323db3-df56-4d04-8367-ec9be30263a1"
      },
      "execution_count": null,
      "outputs": [
        {
          "output_type": "stream",
          "name": "stderr",
          "text": [
            "Setting `pad_token_id` to `eos_token_id`:50256 for open-end generation.\n"
          ]
        },
        {
          "output_type": "stream",
          "name": "stdout",
          "text": [
            "Title: Happy birthday grandma\n",
            "\n",
            "Gramma you're the best you always made me cookies and i never got sick once frmo them. not like uncle larry. ive always been happy with you, dad\n",
            "\n",
            "graphic: a sweet little girl in a sexy dress playing\n",
            "\n",
            "happy birthday to all my dear friends and i love my life\n",
            "\n",
            "I always loved to have my daughter and i got a son to love all of us\n",
            "\n",
            "gramma in your dreams and\n",
            "\n"
          ]
        }
      ]
    },
    {
      "cell_type": "code",
      "source": [
        "import textwrap\n"
      ],
      "metadata": {
        "id": "iCUcDU6-715F"
      },
      "execution_count": null,
      "outputs": []
    },
    {
      "cell_type": "code",
      "source": [
        "print(textwrap.fill(generate_propaganda(0,0,100,1)))"
      ],
      "metadata": {
        "colab": {
          "base_uri": "https://localhost:8080/"
        },
        "id": "Bc501T6o7dmF",
        "outputId": "8b7b9a7a-b8d3-45d6-bdf6-a208829aea93"
      },
      "execution_count": null,
      "outputs": [
        {
          "output_type": "stream",
          "name": "stderr",
          "text": [
            "Setting `pad_token_id` to `eos_token_id`:50256 for open-end generation.\n"
          ]
        },
        {
          "output_type": "stream",
          "name": "stdout",
          "text": [
            "Title: Happy birthday grandma  Gramma you're the best you always made\n",
            "me cookies and i never got sick once frmo them. not like uncle larry.\n",
            "ive always been happy with you, dad  graphic: a sweet little girl in a\n",
            "sexy dress playing  happy birthday to all my dear friends and i love\n",
            "my life  I always loved to have my daughter and i got a son to love\n",
            "all of us  gramma in your dreams and\n"
          ]
        }
      ]
    },
    {
      "cell_type": "code",
      "source": [
        "print(textwrap.fill(generate_propaganda(0,0,100,1)))"
      ],
      "metadata": {
        "colab": {
          "base_uri": "https://localhost:8080/"
        },
        "id": "V-cxLvaN76TB",
        "outputId": "6f932805-9c8a-4e7e-84ed-b54e90a22714"
      },
      "execution_count": null,
      "outputs": [
        {
          "output_type": "stream",
          "name": "stderr",
          "text": [
            "Setting `pad_token_id` to `eos_token_id`:50256 for open-end generation.\n"
          ]
        },
        {
          "output_type": "stream",
          "name": "stdout",
          "text": [
            "Title: Happy birthday grandma  Gramma you're the best you always made\n",
            "me cookies and i never got sick once frmo them. not like uncle larry.\n",
            "ive always been happy with you, dad  graphic: a sweet little girl in a\n",
            "sexy dress playing  happy birthday to all my dear friends and i love\n",
            "my life  I always loved to have my daughter and i got a son to love\n",
            "all of us  gramma in your dreams and\n"
          ]
        }
      ]
    },
    {
      "cell_type": "code",
      "source": [
        "print(textwrap.fill(generate_propaganda(0,918731897,1000,1)))"
      ],
      "metadata": {
        "id": "8__fZshd79LP",
        "outputId": "af84f449-75b4-4a43-a9b1-f5dcb236efef",
        "colab": {
          "base_uri": "https://localhost:8080/"
        }
      },
      "execution_count": null,
      "outputs": [
        {
          "output_type": "stream",
          "name": "stderr",
          "text": [
            "Setting `pad_token_id` to `eos_token_id`:50256 for open-end generation.\n"
          ]
        },
        {
          "output_type": "stream",
          "name": "stdout",
          "text": [
            "Title: Happy birthday grandma  Gramma you're the best you always made\n",
            "me cookies and i never got sick once frmo them. not like uncle larry.\n",
            "ive had good days but sometimes you are the best. never know whether i\n",
            "will make you another one or never.   you really are my favourite you\n",
            "always made me so good ever since the day I woke up.  Post Extras:\n",
            "Quote:  Dr. Jeeze said:  and i only like you because of how you seem\n",
            "to change your routine on the night when you do not have time to play\n",
            "it cool and make sure your newbie doesnt wake up in the morning after\n",
            "your last game.   I will definately do my best to keep you from going\n",
            "to bed if you have any more problems.   The more I talk to you, the\n",
            "more I get the impression you guys are just trying to please you.\n",
            "Good luck and see you soon.   Good luck.  --------------------\n",
            "Welcome to the community. It means you don't have to have to be an A\n",
            "or C genius to take my word for it.   Post Extras:  shovels1 said:\n",
            "Quote:  Dr. Jeeze said:  and i only like you because of how you seem\n",
            "to change your routine on the night when you do not have time to play\n",
            "it cool and make sure your newbie doesnt wake up in the morning after\n",
            "your last game.   I will definately do my best to keep you from going\n",
            "to bed if you have any more problems.   The more I talk to you, the\n",
            "more I get the impression you guys are just trying to please you.\n",
            "Good luck and see you soon.   Good luck.  --------------------\n",
            "Welcome to the community. It means you don't have to have to be an A\n",
            "or C genius to take my word for it.   Post Extras:  nip_lobo said:\n",
            "--------------------  Welcome to the community. It means you don't\n",
            "have to have to be an A or C genius to take my word for it.   Post\n",
            "Extras:   Thanks for the link to my old posts. I think I will post\n",
            "another post that contains some of the recent ones. I can't link the\n",
            "new ones due to security reasons or other reasons. I have added a new\n",
            "thread.\n"
          ]
        }
      ]
    },
    {
      "cell_type": "markdown",
      "source": [],
      "metadata": {
        "id": "CTk04rn076Mz"
      }
    }
  ]
}